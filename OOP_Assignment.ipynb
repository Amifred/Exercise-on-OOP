{
 "cells": [
  {
   "cell_type": "markdown",
   "id": "0acc2290",
   "metadata": {
    "id": "0acc2290"
   },
   "source": [
    "### OOP Asignment"
   ]
  },
  {
   "cell_type": "markdown",
   "id": "5596f158",
   "metadata": {
    "id": "5596f158"
   },
   "source": [
    "**Kindly read the instructions carefully to solve the problems**\n",
    "\n",
    "**Make good use of try,except,finally and exceptions**"
   ]
  },
  {
   "cell_type": "markdown",
   "id": "478c3dde",
   "metadata": {
    "id": "478c3dde"
   },
   "source": [
    "### Q1 Numbers"
   ]
  },
  {
   "cell_type": "markdown",
   "id": "PPHM5gum2zNf",
   "metadata": {
    "id": "PPHM5gum2zNf"
   },
   "source": []
  },
  {
   "cell_type": "markdown",
   "id": "59ddfbd6",
   "metadata": {
    "id": "59ddfbd6"
   },
   "source": [
    "- Create a Class **Number** initialized with a single number.\n",
    "- Create the following methods for the class:\n",
    "    * check_even : Check if number is an even number (Return True or False)\n",
    "    * check_odd:  Check if number is an odd number (Return True or False)\n",
    "    * check_prime : Check if number is prime number (Return True or False)\n",
    "    * check_perfect: Chek if a number is a perfect square  (Return True or False) eg 100 is a perfect square because 10*10 =100\n",
    "    \n",
    "    "
   ]
  },
  {
   "cell_type": "code",
   "execution_count": 293,
   "id": "6a75845f",
   "metadata": {},
   "outputs": [],
   "source": [
    "class Number:\n",
    "    def __init__(self, number):\n",
    "        self.number = number\n",
    "    \n",
    "    def check_even(self):\n",
    "        return self.number % 2 == 0\n",
    "    \n",
    "    def check_odd(self):\n",
    "        return self.number % 2 != 0\n",
    "    \n",
    "    def check_prime(self):\n",
    "        if self.number < 2:\n",
    "            return False\n",
    "        for i in range(2, int(self.number ** 0.5)+1):\n",
    "            if self.number % i == 0:\n",
    "                return False\n",
    "        return True\n",
    "    \n",
    "    \n",
    "    def check_perfect(self):\n",
    "        return self.number ** 0.5 == int(self.number ** 0.5)"
   ]
  },
  {
   "cell_type": "code",
   "execution_count": 294,
   "id": "f4524d75",
   "metadata": {},
   "outputs": [],
   "source": [
    "my_number=Number(49)"
   ]
  },
  {
   "cell_type": "code",
   "execution_count": 295,
   "id": "47467a46",
   "metadata": {},
   "outputs": [
    {
     "data": {
      "text/plain": [
       "False"
      ]
     },
     "execution_count": 295,
     "metadata": {},
     "output_type": "execute_result"
    }
   ],
   "source": [
    "my_number.check_even()"
   ]
  },
  {
   "cell_type": "code",
   "execution_count": 296,
   "id": "3cdb5416",
   "metadata": {},
   "outputs": [
    {
     "data": {
      "text/plain": [
       "True"
      ]
     },
     "execution_count": 296,
     "metadata": {},
     "output_type": "execute_result"
    }
   ],
   "source": [
    "my_number.check_odd()"
   ]
  },
  {
   "cell_type": "code",
   "execution_count": 297,
   "id": "93db35c2",
   "metadata": {},
   "outputs": [
    {
     "data": {
      "text/plain": [
       "False"
      ]
     },
     "execution_count": 297,
     "metadata": {},
     "output_type": "execute_result"
    }
   ],
   "source": [
    "my_number.check_prime()"
   ]
  },
  {
   "cell_type": "code",
   "execution_count": 298,
   "id": "af7c686c",
   "metadata": {},
   "outputs": [
    {
     "data": {
      "text/plain": [
       "True"
      ]
     },
     "execution_count": 298,
     "metadata": {},
     "output_type": "execute_result"
    }
   ],
   "source": [
    "my_number.check_perfect()"
   ]
  },
  {
   "cell_type": "markdown",
   "id": "2a88331d",
   "metadata": {
    "id": "2a88331d"
   },
   "source": [
    "### Q2 Points"
   ]
  },
  {
   "cell_type": "markdown",
   "id": "e3ea2034",
   "metadata": {
    "id": "e3ea2034"
   },
   "source": [
    "* Define a class Point that represents a point in the 2D plane. The point has x and y coordinate.\n",
    "* Define the following functions:\n",
    "    - point_2D: return the point in this format \"Point(3,2)\"\n",
    "    - getX : return the value of x coordinate\n",
    "    - getY: return the value of y coordiante\n",
    "    - add_transfrom : add another point to the created point. eg P(1,2)+P(2,3) = P(3,5)\n",
    "    - distance_origin : return the distance from origin(0,0)  ie ((x ** 2)+ (y ** 2)) ** 0.5\n",
    "    - distance: calculate the distance between two point i.e ((x2-x1) ** 2 + (y2-y1) ** 2)**0.5\n",
    "    "
   ]
  },
  {
   "cell_type": "code",
   "execution_count": 83,
   "id": "55vExddR-GjD",
   "metadata": {
    "id": "55vExddR-GjD"
   },
   "outputs": [],
   "source": [
    "class Point:\n",
    "    def __init__(self, x, y):\n",
    "        self.x = x\n",
    "        self.y = y\n",
    "\n",
    "    def point_2D(self):\n",
    "        return f\"Point({self.x},{self.y})\"\n",
    "\n",
    "    def getX(self):\n",
    "        return self.x\n",
    "\n",
    "    def getY(self):\n",
    "        return self.y\n",
    "\n",
    "    def add_transform(self, point):\n",
    "        return Point(self.x + point.x, self.y + point.y)\n",
    "\n",
    "    def distance_origin(self):\n",
    "        return ((self.x ** 2) + (self.y ** 2)) ** 0.5\n",
    "\n",
    "    def distance(self, point):\n",
    "        return ((self.x - point.x) ** 2 + (self.y - point.y) ** 2) ** 0.5"
   ]
  },
  {
   "cell_type": "code",
   "execution_count": 84,
   "id": "sUKnib8gBzF_",
   "metadata": {
    "id": "sUKnib8gBzF_"
   },
   "outputs": [],
   "source": [
    "my_point=Point(2,3)"
   ]
  },
  {
   "cell_type": "code",
   "execution_count": 85,
   "id": "aae83e03",
   "metadata": {},
   "outputs": [
    {
     "data": {
      "text/plain": [
       "'Point(2,3)'"
      ]
     },
     "execution_count": 85,
     "metadata": {},
     "output_type": "execute_result"
    }
   ],
   "source": [
    "my_point.point_2D()"
   ]
  },
  {
   "cell_type": "code",
   "execution_count": 86,
   "id": "db7917af",
   "metadata": {},
   "outputs": [
    {
     "data": {
      "text/plain": [
       "2"
      ]
     },
     "execution_count": 86,
     "metadata": {},
     "output_type": "execute_result"
    }
   ],
   "source": [
    "my_point.getX()"
   ]
  },
  {
   "cell_type": "code",
   "execution_count": 87,
   "id": "0a73ced0",
   "metadata": {},
   "outputs": [
    {
     "data": {
      "text/plain": [
       "3"
      ]
     },
     "execution_count": 87,
     "metadata": {},
     "output_type": "execute_result"
    }
   ],
   "source": [
    "my_point.getY()"
   ]
  },
  {
   "cell_type": "code",
   "execution_count": 95,
   "id": "894380a4",
   "metadata": {},
   "outputs": [],
   "source": [
    "my_point_2=Point(2,3)"
   ]
  },
  {
   "cell_type": "code",
   "execution_count": 100,
   "id": "379828b1",
   "metadata": {},
   "outputs": [
    {
     "name": "stdout",
     "output_type": "stream",
     "text": [
      "Point(4,6)\n"
     ]
    }
   ],
   "source": [
    "point3=my_point.add_transform(my_point_2).point_2D()\n",
    "print(point3)"
   ]
  },
  {
   "cell_type": "code",
   "execution_count": 104,
   "id": "d22e6332",
   "metadata": {},
   "outputs": [
    {
     "data": {
      "text/plain": [
       "3.605551275463989"
      ]
     },
     "execution_count": 104,
     "metadata": {},
     "output_type": "execute_result"
    }
   ],
   "source": [
    "my_point.distance_origin()"
   ]
  },
  {
   "cell_type": "code",
   "execution_count": 106,
   "id": "a2f0e1d6",
   "metadata": {},
   "outputs": [
    {
     "data": {
      "text/plain": [
       "0.0"
      ]
     },
     "execution_count": 106,
     "metadata": {},
     "output_type": "execute_result"
    }
   ],
   "source": [
    "my_point.distance(my_point_2)"
   ]
  },
  {
   "cell_type": "markdown",
   "id": "acf4db9e",
   "metadata": {
    "id": "acf4db9e"
   },
   "source": [
    "### Q3 Polygon Area Calulator"
   ]
  },
  {
   "cell_type": "markdown",
   "id": "18c26367",
   "metadata": {
    "id": "18c26367"
   },
   "source": [
    "- Using OOP create a **Square** and a **Rectangle** class\n"
   ]
  },
  {
   "cell_type": "markdown",
   "id": "a6d80485",
   "metadata": {
    "id": "a6d80485"
   },
   "source": [
    "#### Rectangle Class"
   ]
  },
  {
   "cell_type": "markdown",
   "id": "915caa6c",
   "metadata": {
    "id": "915caa6c"
   },
   "source": [
    "- The rectangle class should be intialized with `width` and `height` attribute only.\n",
    "\n",
    "- The rectangle class should have the following methods:\n",
    "     - set_width\n",
    "     - set_height\n",
    "     - get_area: Returns area (width * height)\n",
    "     - get_perimeter: Returns perimeter (2 * width        + 2 * height)\n",
    "     - get_diagonal: Returns diagonal ((width ** 2        +  height ** 2) ** .5)\n",
    "     - get_amount_inside: Takes another shape (square or rectangle) as an argument. Returns the number of times the passed in shape could fit inside the shape (with no rotations). **For instance, a rectangle with a width of 4 and a height of 8 could fit in two squares with sides of 4.**\n",
    "     \n",
    "    "
   ]
  },
  {
   "cell_type": "code",
   "execution_count": 109,
   "id": "9y44qVGXI13I",
   "metadata": {
    "id": "9y44qVGXI13I"
   },
   "outputs": [],
   "source": [
    "class Rectangle:\n",
    "    def __init__(self, width, height):\n",
    "        self.width = width\n",
    "        self.height = height\n",
    "\n",
    "    def set_width(self, width):\n",
    "        self.width = width\n",
    "\n",
    "    def set_height(self, height):\n",
    "        self.height = height\n",
    "\n",
    "    def get_area(self):\n",
    "        return self.width * self.height\n",
    "\n",
    "    def get_perimeter(self):\n",
    "        return 2 * self.width + 2 * self.height\n",
    "\n",
    "    def get_diagonal(self):\n",
    "        return (self.width ** 2 + self.height ** 2) **0.5\n",
    "\n",
    "    def get_amount_inside(self, shape):\n",
    "        return int(self.get_area() / shape.get_area())"
   ]
  },
  {
   "cell_type": "code",
   "execution_count": 111,
   "id": "8nQ_XXjUR9gm",
   "metadata": {
    "id": "8nQ_XXjUR9gm"
   },
   "outputs": [],
   "source": [
    "yx=Rectangle(4,6)"
   ]
  },
  {
   "cell_type": "code",
   "execution_count": 112,
   "id": "7d6c5eeb",
   "metadata": {},
   "outputs": [
    {
     "data": {
      "text/plain": [
       "24"
      ]
     },
     "execution_count": 112,
     "metadata": {},
     "output_type": "execute_result"
    }
   ],
   "source": [
    "yx.get_area()"
   ]
  },
  {
   "cell_type": "code",
   "execution_count": 113,
   "id": "0959d0b1",
   "metadata": {},
   "outputs": [
    {
     "data": {
      "text/plain": [
       "20"
      ]
     },
     "execution_count": 113,
     "metadata": {},
     "output_type": "execute_result"
    }
   ],
   "source": [
    "yx.get_perimeter()"
   ]
  },
  {
   "cell_type": "code",
   "execution_count": 114,
   "id": "3ddea12a",
   "metadata": {},
   "outputs": [
    {
     "data": {
      "text/plain": [
       "7.211102550927978"
      ]
     },
     "execution_count": 114,
     "metadata": {},
     "output_type": "execute_result"
    }
   ],
   "source": [
    "yx.get_diagonal()"
   ]
  },
  {
   "cell_type": "code",
   "execution_count": 124,
   "id": "30bfc270",
   "metadata": {},
   "outputs": [],
   "source": [
    "zy=Rectangle(2,3)"
   ]
  },
  {
   "cell_type": "code",
   "execution_count": 125,
   "id": "99f8b198",
   "metadata": {},
   "outputs": [
    {
     "data": {
      "text/plain": [
       "4"
      ]
     },
     "execution_count": 125,
     "metadata": {},
     "output_type": "execute_result"
    }
   ],
   "source": [
    "yx.get_amount_inside(zy)"
   ]
  },
  {
   "cell_type": "markdown",
   "id": "28d82897",
   "metadata": {
    "id": "28d82897"
   },
   "source": [
    "### Square class\n"
   ]
  },
  {
   "cell_type": "markdown",
   "id": "b8bb7e5d",
   "metadata": {
    "id": "b8bb7e5d"
   },
   "source": [
    "The Square class should be a subclass of Rectangle. When a Square object is created, a single side length is passed in. The __init__ method should store the side length in both the width and height attributes from the Rectangle class."
   ]
  },
  {
   "cell_type": "code",
   "execution_count": 126,
   "id": "66a2db46",
   "metadata": {},
   "outputs": [],
   "source": [
    "class Square(Rectangle):\n",
    "    def __init__(self, side):\n",
    "        super().__init__(side, side)\n",
    "\n",
    "    def set_side(self, side):\n",
    "        self.width = side\n",
    "        self.height = side"
   ]
  },
  {
   "cell_type": "code",
   "execution_count": 128,
   "id": "3a3f45ea",
   "metadata": {},
   "outputs": [
    {
     "data": {
      "text/plain": [
       "16"
      ]
     },
     "execution_count": 128,
     "metadata": {},
     "output_type": "execute_result"
    }
   ],
   "source": [
    "ab=Square(4)\n",
    "\n",
    "ab.get_area()"
   ]
  },
  {
   "cell_type": "code",
   "execution_count": 130,
   "id": "0a4907ca",
   "metadata": {},
   "outputs": [
    {
     "data": {
      "text/plain": [
       "4"
      ]
     },
     "execution_count": 130,
     "metadata": {},
     "output_type": "execute_result"
    }
   ],
   "source": [
    "bc=Square(2)\n",
    "ab.get_amount_inside(bc)"
   ]
  },
  {
   "cell_type": "markdown",
   "id": "58f0d234",
   "metadata": {
    "id": "58f0d234"
   },
   "source": [
    "### Q4 Banking System"
   ]
  },
  {
   "cell_type": "markdown",
   "id": "4a02e285",
   "metadata": {
    "id": "4a02e285"
   },
   "source": [
    "* Using Python OOP lets create a bank account.\n",
    "* The bank account should be initalized with  first name, last name, gender and **balance with default of 0**\n",
    "* The class should have the following methods:\n",
    "  - **information**: Display the user full name and the balance in his/her account\n",
    "    eg **Delali Adrah your balance is GHC20.00**\n",
    "    \n",
    "  - deposit: Ask the user  how much he or she wants to deposit in his/her account.\n",
    "  \n",
    "  - **withdraw**: Ask the user how muh he/she want to withdraw form his/her account. Transations is successfuly only if he/she have more money in his/her account and display **Delali Adrah you have withdrawn GHC10.00 from your account. Your balance is GHC10.00**\n",
    "  -**no_transactions**: Displays the total number of successful transaction(deposit and withdraw). eg **Delali Adrah you have made 1 successful transaction(s)**\n",
    "  "
   ]
  },
  {
   "cell_type": "code",
   "execution_count": 158,
   "id": "427eaaa9",
   "metadata": {},
   "outputs": [],
   "source": [
    "class bank_account:\n",
    "    \n",
    "    def __init__(self, first_name, last_name, gender, balance=0.00):\n",
    "        self.first_name = first_name\n",
    "        self.last_name = last_name\n",
    "        self.gender = gender\n",
    "        self.balance= balance\n",
    "        self.transactions = 0\n",
    "        \n",
    "    def information(self):\n",
    "        print(f\"{self.first_name} {self.last_name}, your balance is GHC{self.balance}\")\n",
    "        \n",
    "    def deposit(self, amount):\n",
    "        self.balance += amount\n",
    "        self.transactions += 1\n",
    "        print(f\"{self.first_name} {self.last_name}, you have deposited GHC{amount} into your account.\")\n",
    "        \n",
    "    def withdraw(self, amount):\n",
    "        if self.balance >= amount:\n",
    "            self.balance -= amount\n",
    "            self.transactions += 1\n",
    "            print(f\"{self.first_name} {self.last_name}, you have withdrawn GHC{amount} from your account.\")\n",
    "            print(f\"Your balance is now GHC{self.balance}.\")\n",
    "        else:\n",
    "            print(\"Insufficient funds.\")\n",
    "            \n",
    "    def no_transactions(self):\n",
    "        print(f\"{self.first_name} {self.last_name}, you have made {self.transactions} successful transaction(s).\")\n"
   ]
  },
  {
   "cell_type": "code",
   "execution_count": 159,
   "id": "cc9839d3",
   "metadata": {},
   "outputs": [],
   "source": [
    "kofi=bank_account(\"Alfred\",\"Amihere\",\"Male\",50)"
   ]
  },
  {
   "cell_type": "code",
   "execution_count": 160,
   "id": "2b47fb92",
   "metadata": {},
   "outputs": [
    {
     "name": "stdout",
     "output_type": "stream",
     "text": [
      "Alfred Amihere, your balance is GHC50\n"
     ]
    }
   ],
   "source": [
    "kofi.information()"
   ]
  },
  {
   "cell_type": "code",
   "execution_count": 161,
   "id": "56cf266b",
   "metadata": {},
   "outputs": [
    {
     "name": "stdout",
     "output_type": "stream",
     "text": [
      "Alfred Amihere, you have deposited GHC100 into your account.\n"
     ]
    }
   ],
   "source": [
    "kofi.deposit(100)"
   ]
  },
  {
   "cell_type": "code",
   "execution_count": 162,
   "id": "3f066713",
   "metadata": {},
   "outputs": [
    {
     "name": "stdout",
     "output_type": "stream",
     "text": [
      "Alfred Amihere, you have made 1 successful transaction(s).\n"
     ]
    }
   ],
   "source": [
    "kofi.no_transactions()"
   ]
  },
  {
   "cell_type": "code",
   "execution_count": 163,
   "id": "d52724f7",
   "metadata": {},
   "outputs": [
    {
     "name": "stdout",
     "output_type": "stream",
     "text": [
      "Insufficient funds.\n"
     ]
    }
   ],
   "source": [
    "kofi.withdraw(200)"
   ]
  },
  {
   "cell_type": "code",
   "execution_count": 164,
   "id": "49dee28a",
   "metadata": {},
   "outputs": [
    {
     "name": "stdout",
     "output_type": "stream",
     "text": [
      "Alfred Amihere, you have made 1 successful transaction(s).\n"
     ]
    }
   ],
   "source": [
    "kofi.no_transactions()"
   ]
  },
  {
   "cell_type": "code",
   "execution_count": 165,
   "id": "5fde9898",
   "metadata": {},
   "outputs": [
    {
     "name": "stdout",
     "output_type": "stream",
     "text": [
      "Alfred Amihere, you have deposited GHC500 into your account.\n"
     ]
    }
   ],
   "source": [
    "kofi.deposit(500)"
   ]
  },
  {
   "cell_type": "code",
   "execution_count": 166,
   "id": "4450da8d",
   "metadata": {},
   "outputs": [
    {
     "name": "stdout",
     "output_type": "stream",
     "text": [
      "Alfred Amihere, you have made 2 successful transaction(s).\n"
     ]
    }
   ],
   "source": [
    "kofi.no_transactions()"
   ]
  },
  {
   "cell_type": "code",
   "execution_count": 167,
   "id": "a760ea09",
   "metadata": {},
   "outputs": [
    {
     "name": "stdout",
     "output_type": "stream",
     "text": [
      "Alfred Amihere, you have withdrawn GHC200 from your account.\n",
      "Your balance is now GHC450.\n"
     ]
    }
   ],
   "source": [
    "kofi.withdraw(200)"
   ]
  },
  {
   "cell_type": "code",
   "execution_count": 168,
   "id": "95273c43",
   "metadata": {},
   "outputs": [
    {
     "name": "stdout",
     "output_type": "stream",
     "text": [
      "Alfred Amihere, you have made 3 successful transaction(s).\n"
     ]
    }
   ],
   "source": [
    "kofi.no_transactions()"
   ]
  },
  {
   "cell_type": "markdown",
   "id": "c94432a7",
   "metadata": {
    "id": "c94432a7"
   },
   "source": [
    "### Q4 Stacks"
   ]
  },
  {
   "cell_type": "markdown",
   "id": "3fdd4461",
   "metadata": {
    "id": "3fdd4461"
   },
   "source": [
    "A stack is a data structure that stores items in an Last-In/First-Out manner. "
   ]
  },
  {
   "cell_type": "markdown",
   "id": "f0ad4186",
   "metadata": {
    "id": "f0ad4186"
   },
   "source": [
    "1. Create a class Stack with instance variable items initialized to an empty list.\n",
    "2. Define methods push, pop and is_empty inside the class Stack.\n",
    "3. The method push appends data to items.\n",
    "4. The method pop pops the first element in items.\n",
    "5. The method is_empty returns True only if items is empty.\n",
    "6. Method to count the total number of element in the list"
   ]
  },
  {
   "cell_type": "code",
   "execution_count": 169,
   "id": "93aef011",
   "metadata": {
    "id": "93aef011"
   },
   "outputs": [],
   "source": [
    "class Stack:\n",
    "    def __init__(self):\n",
    "        self.items = []\n",
    "        \n",
    "    def push(self, data):\n",
    "        self.items.append(data)\n",
    "        \n",
    "    def pop(self):\n",
    "        if not self.is_empty():\n",
    "            return self.items.pop()\n",
    "        \n",
    "    def is_empty(self):\n",
    "        return len(self.items) == 0\n",
    "    \n",
    "    def count(self):\n",
    "        return len(self.items)\n"
   ]
  },
  {
   "cell_type": "code",
   "execution_count": 170,
   "id": "5b05c039",
   "metadata": {},
   "outputs": [],
   "source": [
    "my_stock=Stack()"
   ]
  },
  {
   "cell_type": "code",
   "execution_count": 171,
   "id": "4020bd96",
   "metadata": {},
   "outputs": [],
   "source": [
    "my_stock.push(50)"
   ]
  },
  {
   "cell_type": "code",
   "execution_count": null,
   "id": "7cec0194",
   "metadata": {},
   "outputs": [],
   "source": [
    "my_stock.count()"
   ]
  },
  {
   "cell_type": "code",
   "execution_count": 173,
   "id": "424704df",
   "metadata": {},
   "outputs": [],
   "source": [
    "my_stock.push(150)"
   ]
  },
  {
   "cell_type": "code",
   "execution_count": 174,
   "id": "c78a470a",
   "metadata": {},
   "outputs": [
    {
     "data": {
      "text/plain": [
       "2"
      ]
     },
     "execution_count": 174,
     "metadata": {},
     "output_type": "execute_result"
    }
   ],
   "source": [
    "my_stock.count()"
   ]
  },
  {
   "cell_type": "code",
   "execution_count": 177,
   "id": "6417219b",
   "metadata": {},
   "outputs": [
    {
     "data": {
      "text/plain": [
       "False"
      ]
     },
     "execution_count": 177,
     "metadata": {},
     "output_type": "execute_result"
    }
   ],
   "source": [
    "my_stock.is_empty()"
   ]
  },
  {
   "cell_type": "code",
   "execution_count": 176,
   "id": "966aca07",
   "metadata": {},
   "outputs": [
    {
     "data": {
      "text/plain": [
       "150"
      ]
     },
     "execution_count": 176,
     "metadata": {},
     "output_type": "execute_result"
    }
   ],
   "source": [
    "my_stock.pop()"
   ]
  },
  {
   "cell_type": "code",
   "execution_count": 178,
   "id": "be0d8eeb",
   "metadata": {},
   "outputs": [
    {
     "data": {
      "text/plain": [
       "1"
      ]
     },
     "execution_count": 178,
     "metadata": {},
     "output_type": "execute_result"
    }
   ],
   "source": [
    "my_stock.count()"
   ]
  }
 ],
 "metadata": {
  "colab": {
   "provenance": []
  },
  "kernelspec": {
   "display_name": "Python 3 (ipykernel)",
   "language": "python",
   "name": "python3"
  },
  "language_info": {
   "codemirror_mode": {
    "name": "ipython",
    "version": 3
   },
   "file_extension": ".py",
   "mimetype": "text/x-python",
   "name": "python",
   "nbconvert_exporter": "python",
   "pygments_lexer": "ipython3",
   "version": "3.9.7"
  }
 },
 "nbformat": 4,
 "nbformat_minor": 5
}
